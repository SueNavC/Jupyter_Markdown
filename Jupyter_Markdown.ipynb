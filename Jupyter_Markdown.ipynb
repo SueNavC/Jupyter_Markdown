{
 "cells": [
  {
   "cell_type": "markdown",
   "metadata": {},
   "source": [
    "# S01 T01: Jupyter Notebook i Markdown "
   ]
  },
  {
   "cell_type": "markdown",
   "metadata": {},
   "source": [
    "![logo Jupyter](logo_jupyter_Notebook.png)"
   ]
  },
  {
   "cell_type": "markdown",
   "metadata": {},
   "source": [
    "## Markdown"
   ]
  },
  {
   "cell_type": "markdown",
   "metadata": {},
   "source": [
    "**Markdown** is a *text-to-HTML* conversion tool for web writers. **Markdown** allows you to write using an *easy-to-read*, \n",
    "*easy-to-write* plain text format, then convert it to structurally valid ***XHTML*** (or ***HTML***)."
   ]
  },
  {
   "cell_type": "markdown",
   "metadata": {},
   "source": [
    "**Table of Contents**:\n",
    "    \n",
    "- Headers\n",
    "- Emphasis\n",
    "- Lists\n",
    "- Links\n",
    "- Table\n",
    "- Blockquotes\n",
    "- Inline HTML\n",
    "- Horizontal Rule\n"
   ]
  },
  {
   "cell_type": "markdown",
   "metadata": {},
   "source": [
    "### Headers"
   ]
  },
  {
   "cell_type": "raw",
   "metadata": {},
   "source": [
    "# H1\n",
    "## H2\n",
    "### H3\n",
    "#### H4\n",
    "##### H5\n",
    "###### H6"
   ]
  },
  {
   "cell_type": "markdown",
   "metadata": {},
   "source": [
    "# H1\n",
    "## H2\n",
    "### H3\n",
    "#### H4\n",
    "##### H5\n",
    "###### H6"
   ]
  },
  {
   "cell_type": "markdown",
   "metadata": {},
   "source": [
    "### Emphasis"
   ]
  },
  {
   "cell_type": "raw",
   "metadata": {},
   "source": [
    "Emphasis, aka italics, with *asterisks* or _underscores_.\n",
    "\n",
    "Strong emphasis, aka bold, with **asterisks** or __underscores__.\n",
    "\n",
    "Combined emphasis with **asterisks and _underscores_**.\n",
    "\n",
    "Strikethrough uses two tildes. ~~Scratch this.~~"
   ]
  },
  {
   "cell_type": "markdown",
   "metadata": {},
   "source": [
    "Emphasis, aka italics, with *asterisks* or _underscores_.\n",
    "\n",
    "Strong emphasis, aka bold, with **asterisks** or __underscores__.\n",
    "\n",
    "Combined emphasis with **asterisks and _underscores_**.\n",
    "\n",
    "Strikethrough uses two tildes. ~~Scratch this.~~"
   ]
  },
  {
   "cell_type": "markdown",
   "metadata": {},
   "source": [
    "### Lists"
   ]
  },
  {
   "cell_type": "raw",
   "metadata": {},
   "source": [
    "1. First ordered list item\n",
    "2. Another item\n",
    "⋅⋅* Unordered sub-list. \n",
    "1. Actual numbers don't matter, just that it's a number\n",
    "⋅⋅1. Ordered sub-list\n",
    "4. And another item.\n",
    "\n",
    "⋅⋅⋅You can have properly indented paragraphs within list items. Notice the blank line above, and the leading spaces (at least one, but we'll use three here to also align the raw Markdown).\n",
    "\n",
    "⋅⋅⋅To have a line break without a paragraph, you will need to use two trailing spaces.⋅⋅\n",
    "⋅⋅⋅Note that this line is separate, but within the same paragraph.⋅⋅\n",
    "⋅⋅⋅(This is contrary to the typical GFM line break behaviour, where trailing spaces are not required.)\n",
    "\n",
    "* Unordered list can use asterisks\n",
    "- Or minuses\n",
    "+ Or pluses"
   ]
  },
  {
   "cell_type": "markdown",
   "metadata": {},
   "source": [
    "1. First ordered list item\n",
    "2. Another item\n",
    "⋅⋅* Unordered sub-list. \n",
    "1. Actual numbers don't matter, just that it's a number\n",
    "⋅⋅1. Ordered sub-list\n",
    "4. And another item.\n",
    "\n",
    "⋅⋅⋅You can have properly indented paragraphs within list items. Notice the blank line above, and the leading spaces (at least one, but we'll use three here to also align the raw Markdown).\n",
    "\n",
    "⋅⋅⋅To have a line break without a paragraph, you will need to use two trailing spaces.⋅⋅\n",
    "⋅⋅⋅Note that this line is separate, but within the same paragraph.⋅⋅\n",
    "⋅⋅⋅(This is contrary to the typical GFM line break behaviour, where trailing spaces are not required.)\n",
    "\n",
    "* Unordered list can use asterisks\n",
    "- Or minuses\n",
    "+ Or pluses"
   ]
  },
  {
   "cell_type": "markdown",
   "metadata": {},
   "source": [
    "### Links"
   ]
  },
  {
   "cell_type": "raw",
   "metadata": {},
   "source": [
    "1. [Guia Markdown](https://www.markdownguide.org/basic-syntax/)\n",
    "2. [Getting Images into Markdown](https://medium.com/markdown-monster-blog/getting-images-into-markdown-documents-and-weblog-posts-with-markdown-monster-9ec6f353d8ec)\n",
    "3. [Markdown-here](https://github.com/adam-p/markdown-here/wiki/Markdown-Cheatsheet#html)"
   ]
  },
  {
   "cell_type": "markdown",
   "metadata": {},
   "source": [
    "Here are some **links** that may be useful:\n",
    "    \n",
    "1. [Guía Markdown](https://www.markdownguide.org/basic-syntax/)\n",
    "2. [Getting Images into Markdown](https://medium.com/markdown-monster-blog/getting-images-into-markdown-documents-and-weblog-posts-with-markdown-monster-9ec6f353d8ec)\n",
    "3. [Markdown-here](https://github.com/adam-p/markdown-here/wiki/Markdown-Cheatsheet)"
   ]
  },
  {
   "cell_type": "markdown",
   "metadata": {},
   "source": [
    "### Table"
   ]
  },
  {
   "cell_type": "raw",
   "metadata": {},
   "source": [
    "Markdown | Less | Pretty\n",
    "--- | --- | ---\n",
    "*Still* | `renders` | **nicely**\n",
    "1 | 2 | 3"
   ]
  },
  {
   "cell_type": "markdown",
   "metadata": {},
   "source": [
    "Markdown | Less | Pretty\n",
    "--- | --- | ---\n",
    "*Still* | `renders` | **nicely**\n",
    "1 | 2 | 3"
   ]
  },
  {
   "cell_type": "markdown",
   "metadata": {},
   "source": [
    "### Blockquotes"
   ]
  },
  {
   "cell_type": "raw",
   "metadata": {},
   "source": [
    "This is a quote\n",
    "\n",
    "> Blockquotes are very handy in email to emulate reply text.\n",
    "> This line is part of the same quote."
   ]
  },
  {
   "cell_type": "markdown",
   "metadata": {},
   "source": [
    "This is a quote\n",
    "\n",
    "> Blockquotes are very handy in email to emulate reply text.\n",
    "> This line is part of the same quote."
   ]
  },
  {
   "cell_type": "markdown",
   "metadata": {},
   "source": [
    "### Inline HTML"
   ]
  },
  {
   "cell_type": "raw",
   "metadata": {},
   "source": [
    "<dl>\n",
    "  <dt>Definition list</dt>\n",
    "  <dd>Is something people use sometimes.\n",
    "</dd>"
   ]
  },
  {
   "cell_type": "markdown",
   "metadata": {},
   "source": [
    "<dl>\n",
    "  <dt>Definition list</dt>\n",
    "  <dd>Is something people use sometimes.\n",
    "</dd>"
   ]
  },
  {
   "cell_type": "markdown",
   "metadata": {},
   "source": [
    "### Horizontal Rule"
   ]
  },
  {
   "cell_type": "raw",
   "metadata": {},
   "source": [
    "Three or more...\n",
    "\n",
    "---\n",
    "\n",
    "Hyphens\n",
    "\n",
    "***\n",
    "\n",
    "Asterisks\n",
    "\n",
    "___\n",
    "\n",
    "Underscores"
   ]
  },
  {
   "cell_type": "markdown",
   "metadata": {},
   "source": [
    "Three or more...\n",
    "\n",
    "---\n",
    "\n",
    "Hyphens\n",
    "\n",
    "***\n",
    "\n",
    "Asterisks\n",
    "\n",
    "___\n",
    "\n",
    "Underscores"
   ]
  },
  {
   "cell_type": "markdown",
   "metadata": {},
   "source": [
    "## Python Exercices"
   ]
  },
  {
   "cell_type": "markdown",
   "metadata": {},
   "source": [
    "**Ejemplos de operaciones aritméticas**:\n",
    "\n",
    "1. Suma\n",
    "2. Resta\n",
    "3. Multiplicación\n",
    "4. Exponente\n",
    "5. División y módulo"
   ]
  },
  {
   "cell_type": "markdown",
   "metadata": {},
   "source": [
    "### Suma"
   ]
  },
  {
   "cell_type": "code",
   "execution_count": 2,
   "metadata": {},
   "outputs": [
    {
     "name": "stdout",
     "output_type": "stream",
     "text": [
      "The sum of the numbers in the list is: 55\n"
     ]
    }
   ],
   "source": [
    "import numpy as np\n",
    "\n",
    "# We will add all the numbers that the following list contains: \n",
    "\n",
    "numbers_list = [1, 2, 3, 4, 5, 6, 7, 8, 9, 10]\n",
    "sum_numbers = 0\n",
    "\n",
    "for n in numbers_list:\n",
    "    sum_numbers += n\n",
    "    \n",
    "print('The sum of the numbers in the list is: {}'.format(sum_numbers))"
   ]
  },
  {
   "cell_type": "markdown",
   "metadata": {},
   "source": [
    "### Resta"
   ]
  },
  {
   "cell_type": "code",
   "execution_count": 6,
   "metadata": {},
   "outputs": [
    {
     "name": "stdout",
     "output_type": "stream",
     "text": [
      "Enter the number 1: 4\n",
      "Now, enter the number 2: 5\n",
      "The subtraction of the numbers entered is: -1\n"
     ]
    }
   ],
   "source": [
    "# we will enter two integers per screen to do the subtraction\n",
    "\n",
    "num1 = input(\"Enter the number 1: \")\n",
    "num2 = input (\"Now, enter the number 2: \")\n",
    "\n",
    "print('The subtraction of the numbers entered is:', int(num1)-int(num2))"
   ]
  },
  {
   "cell_type": "markdown",
   "metadata": {},
   "source": [
    "### Multiplicación"
   ]
  },
  {
   "cell_type": "code",
   "execution_count": 7,
   "metadata": {},
   "outputs": [
    {
     "name": "stdout",
     "output_type": "stream",
     "text": [
      "Enter a number between 1 and 10: 5\n",
      "1 x 5 = 5\n",
      "2 x 5 = 10\n",
      "3 x 5 = 15\n",
      "4 x 5 = 20\n",
      "5 x 5 = 25\n",
      "6 x 5 = 30\n",
      "7 x 5 = 35\n",
      "8 x 5 = 40\n",
      "9 x 5 = 45\n",
      "10 x 5 = 50\n"
     ]
    }
   ],
   "source": [
    "# we create the multiplication table of a given number\n",
    "\n",
    "numx = int(input(\"Enter a number between 1 and 10: \"))\n",
    "\n",
    "for n in range(1, 11):\n",
    "    print(f'{n} x {numx} = {n * numx}')"
   ]
  },
  {
   "cell_type": "markdown",
   "metadata": {},
   "source": [
    "### Exponente "
   ]
  },
  {
   "cell_type": "code",
   "execution_count": 10,
   "metadata": {},
   "outputs": [
    {
     "name": "stdout",
     "output_type": "stream",
     "text": [
      "Result one:  243\n",
      "Check the result two:  243\n",
      "Check the result three:  243\n"
     ]
    }
   ],
   "source": [
    "# we will create a function to calculate the exponential number\n",
    "\n",
    "def pow_number(base, exponente):\n",
    "    res = 1\n",
    "    for i in range(exponente):\n",
    "        res *= base\n",
    "    return res\n",
    "\n",
    "print(\"Result one: \", pow_number(3, 5))\n",
    "\n",
    "print(\"Check the result two: \", (3**5))\n",
    "\n",
    "print(\"Check the result three: \", pow(3,5))"
   ]
  },
  {
   "cell_type": "markdown",
   "metadata": {},
   "source": [
    "### División"
   ]
  },
  {
   "cell_type": "code",
   "execution_count": 12,
   "metadata": {
    "scrolled": true
   },
   "outputs": [
    {
     "name": "stdout",
     "output_type": "stream",
     "text": [
      "Enter number 1: 4\n",
      "Enter number 2: 7\n",
      "Integer division result:  0\n",
      "Real division result: 0.57\n"
     ]
    }
   ],
   "source": [
    "# we will create a division of 2 given numbers\n",
    "\n",
    "num1 = int(input(\"Enter number 1: \"))\n",
    "num2 = int(input(\"Enter number 2: \"))\n",
    "\n",
    "integer_div = num1 // num2\n",
    "real_div = num1 / num2\n",
    "\n",
    "print(\"Integer division result: \", integer_div)\n",
    "print(\"Real division result: {:.2f}\".format(real_div))"
   ]
  },
  {
   "cell_type": "markdown",
   "metadata": {},
   "source": [
    "## Nbextensions Jupyter Notebook"
   ]
  },
  {
   "cell_type": "markdown",
   "metadata": {},
   "source": [
    "![Nbextensions](Nbextensions.JPG)"
   ]
  },
  {
   "cell_type": "code",
   "execution_count": null,
   "metadata": {},
   "outputs": [],
   "source": []
  }
 ],
 "metadata": {
  "hide_input": false,
  "kernelspec": {
   "display_name": "Python 3",
   "language": "python",
   "name": "python3"
  },
  "language_info": {
   "codemirror_mode": {
    "name": "ipython",
    "version": 3
   },
   "file_extension": ".py",
   "mimetype": "text/x-python",
   "name": "python",
   "nbconvert_exporter": "python",
   "pygments_lexer": "ipython3",
   "version": "3.8.5"
  },
  "latex_envs": {
   "LaTeX_envs_menu_present": true,
   "autoclose": false,
   "autocomplete": true,
   "bibliofile": "biblio.bib",
   "cite_by": "apalike",
   "current_citInitial": 1,
   "eqLabelWithNumbers": true,
   "eqNumInitial": 1,
   "hotkeys": {
    "equation": "Ctrl-E",
    "itemize": "Ctrl-I"
   },
   "labels_anchors": false,
   "latex_user_defs": false,
   "report_style_numbering": false,
   "user_envs_cfg": false
  },
  "toc": {
   "base_numbering": 1,
   "nav_menu": {},
   "number_sections": true,
   "sideBar": true,
   "skip_h1_title": false,
   "title_cell": "Table of Contents",
   "title_sidebar": "Contents",
   "toc_cell": false,
   "toc_position": {},
   "toc_section_display": true,
   "toc_window_display": false
  },
  "varInspector": {
   "cols": {
    "lenName": 16,
    "lenType": 16,
    "lenVar": 40
   },
   "kernels_config": {
    "python": {
     "delete_cmd_postfix": "",
     "delete_cmd_prefix": "del ",
     "library": "var_list.py",
     "varRefreshCmd": "print(var_dic_list())"
    },
    "r": {
     "delete_cmd_postfix": ") ",
     "delete_cmd_prefix": "rm(",
     "library": "var_list.r",
     "varRefreshCmd": "cat(var_dic_list()) "
    }
   },
   "types_to_exclude": [
    "module",
    "function",
    "builtin_function_or_method",
    "instance",
    "_Feature"
   ],
   "window_display": false
  }
 },
 "nbformat": 4,
 "nbformat_minor": 4
}
